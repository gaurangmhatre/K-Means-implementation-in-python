{
 "cells": [
  {
   "cell_type": "code",
   "execution_count": 5,
   "metadata": {
    "collapsed": false,
    "deletable": true,
    "editable": true
   },
   "outputs": [],
   "source": [
    "import numpy as np\n",
    "\n",
    "import scipy as sp\n",
    "from scipy import spatial\n",
    "\n",
    "from collections import defaultdict\n",
    "from random import uniform\n",
    "from math import sqrt\n",
    "\n",
    "from sklearn.feature_extraction.text import TfidfVectorizer, CountVectorizer\n",
    "\n",
    "vectorizer = CountVectorizer()"
   ]
  },
  {
   "cell_type": "code",
   "execution_count": 6,
   "metadata": {
    "collapsed": false,
    "deletable": true,
    "editable": true
   },
   "outputs": [
    {
     "name": "stdout",
     "output_type": "stream",
     "text": [
      "('Line count in training :', 8580)\n",
      "('Line count in format :', 8194)\n"
     ]
    }
   ],
   "source": [
    "with open(\"Data/train.dat\", \"r\") as fh:\n",
    "    linesOfTrainData = fh.readlines()\n",
    "print(\"Line count in training :\" ,len(linesOfTrainData))\n",
    "\n",
    "#with open(\"TestData/format.dat\", \"r\") as fh:\n",
    "with open(\"Data/format.dat\", \"r\") as fh:\n",
    "    linesOfFormat = fh.readlines()\n",
    "print(\"Line count in format :\" ,len(linesOfFormat))\n"
   ]
  },
  {
   "cell_type": "code",
   "execution_count": 7,
   "metadata": {
    "collapsed": false,
    "deletable": true,
    "editable": true
   },
   "outputs": [],
   "source": [
    "vectorizer = CountVectorizer(lowercase = True)"
   ]
  },
  {
   "cell_type": "code",
   "execution_count": 8,
   "metadata": {
    "collapsed": true,
    "deletable": true,
    "editable": true
   },
   "outputs": [],
   "source": [
    "training_list = []\n",
    "\n",
    "for td in linesOfTrainData:\n",
    "    training_list.append(td)"
   ]
  },
  {
   "cell_type": "code",
   "execution_count": 9,
   "metadata": {
    "collapsed": true,
    "deletable": true,
    "editable": true
   },
   "outputs": [],
   "source": [
    "features =  set()\n",
    "def feature_selection(data):\n",
    "    for rows in data:\n",
    "        for feat in  rows.split():\n",
    "            features.add(feat)"
   ]
  },
  {
   "cell_type": "code",
   "execution_count": 10,
   "metadata": {
    "collapsed": false,
    "deletable": true,
    "editable": true
   },
   "outputs": [
    {
     "name": "stdout",
     "output_type": "stream",
     "text": [
      "27673\n"
     ]
    }
   ],
   "source": [
    "feature_selection(training_list)\n",
    "print(len(features))"
   ]
  },
  {
   "cell_type": "code",
   "execution_count": 11,
   "metadata": {
    "collapsed": true,
    "deletable": true,
    "editable": true
   },
   "outputs": [],
   "source": [
    "from sklearn.feature_extraction.text import TfidfVectorizer\n",
    "tf = TfidfVectorizer(norm='l2', vocabulary=list(features))"
   ]
  },
  {
   "cell_type": "code",
   "execution_count": 12,
   "metadata": {
    "collapsed": true,
    "deletable": true,
    "editable": true
   },
   "outputs": [],
   "source": [
    "training_matrix =  tf.fit_transform(training_list)\n",
    "training_feature_names = tf.get_feature_names() "
   ]
  },
  {
   "cell_type": "code",
   "execution_count": 13,
   "metadata": {
    "collapsed": true,
    "deletable": true,
    "editable": true
   },
   "outputs": [],
   "source": [
    "denseTrainMatrix = training_matrix.todense()"
   ]
  },
  {
   "cell_type": "code",
   "execution_count": 14,
   "metadata": {
    "collapsed": false,
    "deletable": true,
    "editable": true
   },
   "outputs": [
    {
     "name": "stdout",
     "output_type": "stream",
     "text": [
      "[[ 0.  0.  0. ...,  0.  0.  0.]\n",
      " [ 0.  0.  0. ...,  0.  0.  0.]\n",
      " [ 0.  0.  0. ...,  0.  0.  0.]\n",
      " ..., \n",
      " [ 0.  0.  0. ...,  0.  0.  0.]\n",
      " [ 0.  0.  0. ...,  0.  0.  0.]\n",
      " [ 0.  0.  0. ...,  0.  0.  0.]]\n"
     ]
    }
   ],
   "source": [
    "print(denseTrainMatrix)"
   ]
  },
  {
   "cell_type": "code",
   "execution_count": 15,
   "metadata": {
    "collapsed": true,
    "deletable": true,
    "editable": true
   },
   "outputs": [],
   "source": [
    "def point_avg(points):\n",
    "    \"\"\"\n",
    "    Accepts a list of points, each with the same number of dimensions.\n",
    "    NB. points can have more dimensions than 2\n",
    "    \n",
    "    Returns a new point which is the center of all the points.\n",
    "    \"\"\"\n",
    "    dimensions = len(points[0])\n",
    "\n",
    "    new_center = []\n",
    "\n",
    "    for dimension in xrange(dimensions):\n",
    "        dim_sum = 0  # dimension sum\n",
    "        for p in points:\n",
    "            dim_sum += p[dimension]\n",
    "\n",
    "        # average of each dimension\n",
    "        new_center.append(dim_sum / float(len(points)))\n",
    "\n",
    "    return new_center"
   ]
  },
  {
   "cell_type": "code",
   "execution_count": 16,
   "metadata": {
    "collapsed": true,
    "deletable": true,
    "editable": true
   },
   "outputs": [],
   "source": [
    "def update_centers(data_set, assignments):\n",
    "    \"\"\"\n",
    "    Accepts a dataset and a list of assignments; the indexes \n",
    "    of both lists correspond to each other.\n",
    "    Compute the center for each of the assigned groups.\n",
    "    Return `k` centers where `k` is the number of unique assignments.\n",
    "    \"\"\"\n",
    "    new_means = defaultdict(list)\n",
    "    centers = []\n",
    "    for assignment, point in zip(assignments, data_set):\n",
    "        new_means[assignment].append(point)\n",
    "        \n",
    "    for points in new_means.itervalues():\n",
    "        centers.append(point_avg(points))\n",
    "\n",
    "    return centers"
   ]
  },
  {
   "cell_type": "code",
   "execution_count": 17,
   "metadata": {
    "collapsed": true,
    "deletable": true,
    "editable": true
   },
   "outputs": [],
   "source": [
    "def assign_points(data_points, centers):\n",
    "    \"\"\"\n",
    "    Given a data set and a list of points betweeen other points,\n",
    "    assign each point to an index that corresponds to the index\n",
    "    of the center point on it's proximity to that point. \n",
    "    Return a an array of indexes of centers that correspond to\n",
    "    an index in the data set; that is, if there are N points\n",
    "    in `data_set` the list we return will have N elements. Also\n",
    "    If there are Y points in `centers` there will be Y unique\n",
    "    possible values within the returned list.\n",
    "    \"\"\"\n",
    "    assignments = []\n",
    "    for point in data_points:\n",
    "        shortest = ()  # positive infinity\n",
    "        shortest_index = 0\n",
    "        for i in xrange(len(centers)):\n",
    "            val = distance(point, centers[i])\n",
    "            if val < shortest:\n",
    "                shortest = val\n",
    "                shortest_index = i\n",
    "        assignments.append(shortest_index)\n",
    "    return assignments"
   ]
  },
  {
   "cell_type": "code",
   "execution_count": 18,
   "metadata": {
    "collapsed": true,
    "deletable": true,
    "editable": true
   },
   "outputs": [],
   "source": [
    "def distance(a, b):\n",
    "    \"\"\"\n",
    "    \"\"\"\n",
    "    dimensions = len(a)\n",
    "    \n",
    "    _sum = 0\n",
    "    for dimension in xrange(dimensions):\n",
    "        difference_sq = (a[dimension] - b[dimension]) ** 2\n",
    "        _sum += difference_sq\n",
    "    return sqrt(_sum)"
   ]
  },
  {
   "cell_type": "code",
   "execution_count": 25,
   "metadata": {
    "collapsed": true,
    "deletable": true,
    "editable": true
   },
   "outputs": [],
   "source": [
    "def generate_k(data_set, k):\n",
    "    \"\"\"\n",
    "    Given `data_set`, which is an array of arrays,\n",
    "    find the minimum and maximum for each coordinate, a range.\n",
    "    Generate `k` random points between the ranges.\n",
    "    Return an array of the random points within the ranges.\n",
    "    \"\"\"\n",
    "    centers = []\n",
    "    dimensions = len(features) \n",
    "    #print dimensions\n",
    "    min_max = defaultdict(int)\n",
    "\n",
    "    for point in data_set:\n",
    "        print point\n",
    "        for i in xrange(dimensions):\n",
    "            print i\n",
    "            print point[:i]\n",
    "            \n",
    "            #print val\n",
    "            '''min_key = 'min_%d' % i\n",
    "            max_key = 'max_%d' % i\n",
    "            if min_key not in min_max or val < min_max[min_key]:\n",
    "                min_max[min_key] = val\n",
    "            if max_key not in min_max or val > min_max[max_key]:\n",
    "                min_max[max_key] = val'''\n",
    "            \n",
    "            break\n",
    "        break\n",
    "\n",
    "    #for _k in xrange(k):\n",
    "    #    rand_point = []\n",
    "    #    for i in xrange(dimensions):\n",
    "     #       min_val = min_max['min_%d' % i]\n",
    "      #      max_val = min_max['max_%d' % i]\n",
    "            \n",
    "       #     rand_point.append(uniform(min_val, max_val))\n",
    "\n",
    "        #centers.append(rand_point)\n",
    "    #print centers\n",
    "    return centers"
   ]
  },
  {
   "cell_type": "code",
   "execution_count": 26,
   "metadata": {
    "collapsed": true,
    "deletable": true,
    "editable": true
   },
   "outputs": [],
   "source": [
    "def k_means(dataset, k):\n",
    "    k_points = generate_k(dataset, k)\n",
    "    #assignments = assign_points(dataset, k_points)\n",
    "    #old_assignments = None\n",
    "    #while assignments != old_assignments:\n",
    "    #    new_centers = update_centers(dataset, assignments)\n",
    "     #   old_assignments = assignments\n",
    "      #  assignments = assign_points(dataset, new_centers)\n",
    "    #return zip(assignments, dataset)\n"
   ]
  },
  {
   "cell_type": "code",
   "execution_count": 27,
   "metadata": {
    "collapsed": false,
    "deletable": true,
    "editable": true
   },
   "outputs": [
    {
     "name": "stdout",
     "output_type": "stream",
     "text": [
      "[[ 0.  0.  0. ...,  0.  0.  0.]]\n",
      "0\n",
      "[]\n",
      "None\n"
     ]
    }
   ],
   "source": [
    " print k_means(denseTrainMatrix, 3)"
   ]
  },
  {
   "cell_type": "code",
   "execution_count": null,
   "metadata": {
    "collapsed": true,
    "deletable": true,
    "editable": true
   },
   "outputs": [],
   "source": []
  }
 ],
 "metadata": {
  "kernelspec": {
   "display_name": "Python 2",
   "language": "python",
   "name": "python2"
  },
  "language_info": {
   "codemirror_mode": {
    "name": "ipython",
    "version": 2
   },
   "file_extension": ".py",
   "mimetype": "text/x-python",
   "name": "python",
   "nbconvert_exporter": "python",
   "pygments_lexer": "ipython2",
   "version": "2.7.12"
  }
 },
 "nbformat": 4,
 "nbformat_minor": 2
}
