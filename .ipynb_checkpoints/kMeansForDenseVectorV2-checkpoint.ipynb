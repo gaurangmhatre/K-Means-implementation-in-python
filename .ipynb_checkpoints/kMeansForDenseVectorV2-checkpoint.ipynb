{
 "cells": [
  {
   "cell_type": "code",
   "execution_count": 141,
   "metadata": {
    "collapsed": true,
    "deletable": true,
    "editable": true
   },
   "outputs": [],
   "source": [
    "import numpy as np\n",
    "\n",
    "import scipy as sp\n",
    "from scipy import spatial\n",
    "\n",
    "from collections import defaultdict\n",
    "from random import uniform\n",
    "from math import sqrt\n",
    "\n",
    "from sklearn.feature_extraction.text import TfidfVectorizer, CountVectorizer\n",
    "\n",
    "vectorizer = CountVectorizer()\n",
    "\n",
    "from collections import defaultdict\n",
    "from math import sqrt\n",
    "import random"
   ]
  },
  {
   "cell_type": "code",
   "execution_count": 142,
   "metadata": {
    "collapsed": false,
    "deletable": true,
    "editable": true
   },
   "outputs": [
    {
     "name": "stdout",
     "output_type": "stream",
     "text": [
      "('Line count in training :', 8580)\n",
      "('Line count in format :', 8194)\n"
     ]
    }
   ],
   "source": [
    "with open(\"Data/train.dat\", \"r\") as fh:\n",
    "    linesOfTrainData = fh.readlines()\n",
    "print(\"Line count in training :\" ,len(linesOfTrainData))\n",
    "\n",
    "#with open(\"TestData/format.dat\", \"r\") as fh:\n",
    "with open(\"Data/format.dat\", \"r\") as fh:\n",
    "    linesOfFormat = fh.readlines()\n",
    "print(\"Line count in format :\" ,len(linesOfFormat))\n"
   ]
  },
  {
   "cell_type": "code",
   "execution_count": 143,
   "metadata": {
    "collapsed": false
   },
   "outputs": [
    {
     "name": "stdout",
     "output_type": "stream",
     "text": [
      "('Line count in training :', 100)\n"
     ]
    }
   ],
   "source": [
    "linesOfTrainData = linesOfTrainData[:100]\n",
    "print(\"Line count in training :\" ,len(linesOfTrainData))"
   ]
  },
  {
   "cell_type": "code",
   "execution_count": 144,
   "metadata": {
    "collapsed": true,
    "deletable": true,
    "editable": true
   },
   "outputs": [],
   "source": [
    "vectorizer = CountVectorizer(lowercase = True)"
   ]
  },
  {
   "cell_type": "code",
   "execution_count": 145,
   "metadata": {
    "collapsed": true,
    "deletable": true,
    "editable": true
   },
   "outputs": [],
   "source": [
    "training_list = []\n",
    "\n",
    "for td in linesOfTrainData:\n",
    "    training_list.append(td)"
   ]
  },
  {
   "cell_type": "code",
   "execution_count": 146,
   "metadata": {
    "collapsed": true,
    "deletable": true,
    "editable": true
   },
   "outputs": [],
   "source": [
    "features =  set()\n",
    "def feature_selection(data):\n",
    "    for rows in data:\n",
    "        for feat in  rows.split():\n",
    "            features.add(feat)"
   ]
  },
  {
   "cell_type": "code",
   "execution_count": 147,
   "metadata": {
    "collapsed": false,
    "deletable": true,
    "editable": true
   },
   "outputs": [
    {
     "name": "stdout",
     "output_type": "stream",
     "text": [
      "3913\n"
     ]
    }
   ],
   "source": [
    "feature_selection(training_list)\n",
    "print(len(features))"
   ]
  },
  {
   "cell_type": "code",
   "execution_count": 148,
   "metadata": {
    "collapsed": true,
    "deletable": true,
    "editable": true
   },
   "outputs": [],
   "source": [
    "from sklearn.feature_extraction.text import TfidfVectorizer\n",
    "tf = TfidfVectorizer(norm='l2', vocabulary=list(features))"
   ]
  },
  {
   "cell_type": "code",
   "execution_count": 149,
   "metadata": {
    "collapsed": true,
    "deletable": true,
    "editable": true
   },
   "outputs": [],
   "source": [
    "training_matrix =  tf.fit_transform(training_list)\n",
    "training_feature_names = tf.get_feature_names() "
   ]
  },
  {
   "cell_type": "code",
   "execution_count": 150,
   "metadata": {
    "collapsed": true,
    "deletable": true,
    "editable": true
   },
   "outputs": [],
   "source": [
    "denseTrainMatrix = training_matrix.todense()"
   ]
  },
  {
   "cell_type": "code",
   "execution_count": 151,
   "metadata": {
    "collapsed": false,
    "deletable": true,
    "editable": true
   },
   "outputs": [
    {
     "name": "stdout",
     "output_type": "stream",
     "text": [
      "[[ 0.          0.          0.         ...,  0.          0.05551714\n",
      "   0.07020532]\n",
      " [ 0.          0.          0.         ...,  0.          0.          0.        ]\n",
      " [ 0.          0.          0.         ...,  0.          0.          0.04840035]\n",
      " ..., \n",
      " [ 0.          0.          0.         ...,  0.          0.          0.        ]\n",
      " [ 0.          0.          0.         ...,  0.          0.          0.        ]\n",
      " [ 0.          0.          0.         ...,  0.          0.07804793  0.        ]]\n"
     ]
    }
   ],
   "source": [
    "print(denseTrainMatrix)"
   ]
  },
  {
   "cell_type": "code",
   "execution_count": 152,
   "metadata": {
    "collapsed": true,
    "deletable": true,
    "editable": true
   },
   "outputs": [],
   "source": [
    "def densify(x, n):\n",
    "    \"\"\"Convert a sparse vector to a dense one.\"\"\"\n",
    "    d = [0] * n\n",
    "    for i, v in x:\n",
    "        d[i] = v\n",
    "    return d"
   ]
  },
  {
   "cell_type": "code",
   "execution_count": 153,
   "metadata": {
    "collapsed": false,
    "deletable": true,
    "editable": true
   },
   "outputs": [
    {
     "data": {
      "text/plain": [
       "'def dist(x, c):\\n    Euclidean distance between sample x and cluster center c.\\n    Inputs: x, a sparse vector\\n            c, a dense vector\\n    \\n    sqdist = 0.\\n    for i, v in x:\\n        sqdist += (v - c[i]) ** 2\\n    return sqrt(sqdist)\\n'"
      ]
     },
     "execution_count": 153,
     "metadata": {},
     "output_type": "execute_result"
    }
   ],
   "source": [
    "\"\"\"def dist(x, c):\n",
    "    \"\"\"\"\"\"Euclidean distance between sample x and cluster center c.\n",
    "    Inputs: x, a sparse vector\n",
    "            c, a dense vector\n",
    "    \"\"\"\"\"\"\n",
    "    sqdist = 0.\n",
    "    for i, v in x:\n",
    "        sqdist += (v - c[i]) ** 2\n",
    "    return sqrt(sqdist)\n",
    "\"\"\""
   ]
  },
  {
   "cell_type": "code",
   "execution_count": 154,
   "metadata": {
    "collapsed": true,
    "deletable": true,
    "editable": true
   },
   "outputs": [],
   "source": [
    "def denseToListConvertor(a):\n",
    "    alist = a.tolist()\n",
    "    return alist"
   ]
  },
  {
   "cell_type": "code",
   "execution_count": null,
   "metadata": {
    "collapsed": true,
    "deletable": true,
    "editable": true
   },
   "outputs": [],
   "source": []
  },
  {
   "cell_type": "code",
   "execution_count": 155,
   "metadata": {
    "collapsed": false,
    "deletable": true,
    "editable": true
   },
   "outputs": [],
   "source": [
    "def dist(aVector, bVector):\n",
    "    \"\"\"\n",
    "    \n",
    "    print \"--\"\n",
    "\n",
    "    print len(aVector)\n",
    "    print aVector\n",
    "    \n",
    "    print \"--\"\n",
    "    \n",
    "    print len(bVector)\n",
    "    print bVector\n",
    "\n",
    "    print \"--\"\n",
    "    \"\"\"\n",
    "\n",
    "    a =  denseToListConvertor(aVector)\n",
    "    b =  denseToListConvertor(bVector)\n",
    "    \n",
    "    #print \"a[0][0] : \"+ str(a[0][0])\n",
    "    #print \"b[0][0] : \" + str(b[0][0])\n",
    "    \n",
    "    #print '---'\n",
    "    \n",
    "    dimensions = len(a[0])\n",
    "    #print dimensions\n",
    "    \n",
    "    _sum = 0\n",
    "    for dimension in xrange(dimensions):\n",
    "\n",
    "        #print(dimension)\n",
    "        difference_sq = (a[0][dimension] - b[0][dimension]) ** 2\n",
    "        _sum += difference_sq\n",
    "        \n",
    "    #print \"Distance: \"+ str(sqrt(_sum))\n",
    "    return sqrt(_sum)"
   ]
  },
  {
   "cell_type": "code",
   "execution_count": 156,
   "metadata": {
    "collapsed": true,
    "deletable": true,
    "editable": true
   },
   "outputs": [],
   "source": [
    "def mean(xs, l):\n",
    "    \"\"\"Mean (as a dense vector) of a set of sparse vectors of length l.\"\"\"\n",
    "    \"\"\"c = [0.] * l\n",
    "    n = 0\n",
    "    for x in xs:\n",
    "        for i, v in x:\n",
    "            c[i] += v\n",
    "        n += 1\n",
    "    for i in xrange(l):\n",
    "        c[i] /= n\"\"\"\n",
    "    \n",
    "    \n",
    "    return c\n"
   ]
  },
  {
   "cell_type": "code",
   "execution_count": 165,
   "metadata": {
    "collapsed": false
   },
   "outputs": [],
   "source": [
    "def mean(xs,cluster, k):\n",
    "    i=0\n",
    "    \n",
    "    returnCenters = []\n",
    "    \n",
    "    while (k >= i) :\n",
    "        print \"hello\"\n",
    "        avgList=[]\n",
    "        for value in xs:\n",
    "            if cluster[xs.index(value)] == k:\n",
    "                avgList.append(value)\n",
    "                \n",
    "        returnCenters.append(computeAvg(avgList)) #write this method : computeAvg \n",
    "        \n",
    "        \n",
    "        \n",
    "        i+=1\n",
    "return returnCenters\n",
    "        \n",
    "            \n",
    "        "
   ]
  },
  {
   "cell_type": "code",
   "execution_count": 157,
   "metadata": {
    "collapsed": false,
    "deletable": true,
    "editable": true
   },
   "outputs": [],
   "source": [
    "def kmeans(k, xs, l, n_iter=1):\n",
    "    # Initialize from random points.\n",
    "    #centers = [densify(xs[i], l) for i in random.sample(xrange(len(xs)), k)]\n",
    "    centers = [xs[i] for i in random.sample(xrange(len(xs)), k)]\n",
    "    \n",
    "    #centers = [random.sample(xrange(len(xs)),k)]* len(xs)\n",
    "    cluster = [None] * len(xs)\n",
    "\n",
    "    \n",
    "    print \"CLUSTER: \"+str(len(cluster))\n",
    "    \n",
    "    print \"centers : \"+ str(len(centers))\n",
    "    #print \"Center are : \"+str(centers)\n",
    "    \n",
    "    \n",
    "    \n",
    "    for _ in xrange(n_iter):\n",
    "        for i, x in enumerate(xs):\n",
    "            \n",
    "            #print \"Iteration : \"+str(i)\n",
    "            #print \"Value of x in process : \"+str(x)\n",
    "          \n",
    "            listCenterDistance = []\n",
    "            \n",
    "            for center in centers:\n",
    "                listCenterDistance.append(dist(xs[i], center))\n",
    "            \n",
    "            cluster[i] = listCenterDistance.index(min(listCenterDistance))\n",
    "                       \n",
    "            #print \"Distance: \"+ str(dist(xs[i], centers[i]))\n",
    "            #cluster[i] = min(xrange(k), key=lambda j: dist(xs[i], centers[j]))\n",
    "        \n",
    "        \n",
    "        \n",
    "        #for j, c in enumerate(centers):\n",
    "         #   members = (x for i, x in enumerate(xs) if cluster[i] == j)\n",
    "          #  centers[j] = mean(members, l)\n",
    "    \n",
    "    return cluster\n"
   ]
  },
  {
   "cell_type": "code",
   "execution_count": 158,
   "metadata": {
    "collapsed": false,
    "deletable": true,
    "editable": true
   },
   "outputs": [
    {
     "name": "stdout",
     "output_type": "stream",
     "text": [
      "usage: 3 k docs...\n",
      "CLUSTER: 100\n",
      "centers : 3\n",
      "[0, 2, 2, 2, 0, 0, 0, 1, 2, 1, 1, 1, 0, 0, 1, 0, 1, 2, 2, 1, 2, 2, 2, 2, 0, 1, 1, 2, 0, 2, 0, 0, 0, 2, 1, 1, 1, 0, 0, 0, 1, 0, 0, 1, 1, 0, 0, 0, 1, 2, 1, 1, 1, 0, 1, 1, 0, 1, 1, 0, 1, 0, 2, 1, 1, 0, 1, 1, 1, 0, 1, 2, 0, 1, 2, 2, 0, 0, 0, 0, 0, 2, 1, 2, 1, 0, 2, 1, 0, 2, 2, 1, 2, 0, 0, 0, 0, 0, 2, 0]\n"
     ]
    }
   ],
   "source": [
    "import re\n",
    "import sys\n",
    "\n",
    "KValue= 3\n",
    "print(\"usage: %s k docs...\" % KValue)\n",
    "\n",
    "k=KValue\n",
    "\n",
    "\n",
    "vocab = features\n",
    "xs = denseTrainMatrix\n",
    "\n",
    "\n",
    "cluster_ind = kmeans(k, xs, len(vocab))\n",
    "\n",
    "print(cluster_ind)\n",
    "\n",
    "#clusters = [set() for _ in xrange(k)]\n",
    "#for i, j in enumerate(cluster_ind):\n",
    "#    clusters[j].add(i)\n",
    "\n",
    "#for j, c in enumerate(clusters):\n",
    "#    print(\"cluster %d:\" % j)\n",
    "    #for i in c:\n",
    "        #print(\"\\t%s\" % args[i])"
   ]
  },
  {
   "cell_type": "code",
   "execution_count": null,
   "metadata": {
    "collapsed": true,
    "deletable": true,
    "editable": true
   },
   "outputs": [],
   "source": []
  },
  {
   "cell_type": "code",
   "execution_count": null,
   "metadata": {
    "collapsed": true,
    "deletable": true,
    "editable": true
   },
   "outputs": [],
   "source": []
  }
 ],
 "metadata": {
  "kernelspec": {
   "display_name": "Python 2",
   "language": "python",
   "name": "python2"
  },
  "language_info": {
   "codemirror_mode": {
    "name": "ipython",
    "version": 2
   },
   "file_extension": ".py",
   "mimetype": "text/x-python",
   "name": "python",
   "nbconvert_exporter": "python",
   "pygments_lexer": "ipython2",
   "version": "2.7.12"
  }
 },
 "nbformat": 4,
 "nbformat_minor": 2
}
