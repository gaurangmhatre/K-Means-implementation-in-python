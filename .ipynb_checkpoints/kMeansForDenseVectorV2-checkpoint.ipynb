{
 "cells": [
  {
   "cell_type": "code",
   "execution_count": 1,
   "metadata": {
    "collapsed": true,
    "deletable": true,
    "editable": true
   },
   "outputs": [],
   "source": [
    "import numpy as np\n",
    "\n",
    "import scipy as sp\n",
    "from scipy import spatial\n",
    "\n",
    "from collections import defaultdict\n",
    "from random import uniform\n",
    "from math import sqrt\n",
    "\n",
    "from sklearn.feature_extraction.text import TfidfVectorizer, CountVectorizer\n",
    "\n",
    "vectorizer = CountVectorizer()\n",
    "\n",
    "from collections import defaultdict\n",
    "from math import sqrt\n",
    "import random"
   ]
  },
  {
   "cell_type": "code",
   "execution_count": 2,
   "metadata": {
    "collapsed": false,
    "deletable": true,
    "editable": true
   },
   "outputs": [
    {
     "name": "stdout",
     "output_type": "stream",
     "text": [
      "('Line count in training :', 8580)\n",
      "('Line count in format :', 8194)\n"
     ]
    }
   ],
   "source": [
    "with open(\"Data/train.dat\", \"r\") as fh:\n",
    "    linesOfTrainData = fh.readlines()\n",
    "print(\"Line count in training :\" ,len(linesOfTrainData))\n",
    "\n",
    "#with open(\"TestData/format.dat\", \"r\") as fh:\n",
    "with open(\"Data/format.dat\", \"r\") as fh:\n",
    "    linesOfFormat = fh.readlines()\n",
    "print(\"Line count in format :\" ,len(linesOfFormat))\n"
   ]
  },
  {
   "cell_type": "code",
   "execution_count": 3,
   "metadata": {
    "collapsed": true,
    "deletable": true,
    "editable": true
   },
   "outputs": [],
   "source": [
    "vectorizer = CountVectorizer(lowercase = True)"
   ]
  },
  {
   "cell_type": "code",
   "execution_count": 4,
   "metadata": {
    "collapsed": true,
    "deletable": true,
    "editable": true
   },
   "outputs": [],
   "source": [
    "training_list = []\n",
    "\n",
    "for td in linesOfTrainData:\n",
    "    training_list.append(td)"
   ]
  },
  {
   "cell_type": "code",
   "execution_count": 5,
   "metadata": {
    "collapsed": true,
    "deletable": true,
    "editable": true
   },
   "outputs": [],
   "source": [
    "features =  set()\n",
    "def feature_selection(data):\n",
    "    for rows in data:\n",
    "        for feat in  rows.split():\n",
    "            features.add(feat)"
   ]
  },
  {
   "cell_type": "code",
   "execution_count": 6,
   "metadata": {
    "collapsed": false,
    "deletable": true,
    "editable": true
   },
   "outputs": [
    {
     "name": "stdout",
     "output_type": "stream",
     "text": [
      "27673\n"
     ]
    }
   ],
   "source": [
    "feature_selection(training_list)\n",
    "print(len(features))"
   ]
  },
  {
   "cell_type": "code",
   "execution_count": 7,
   "metadata": {
    "collapsed": true,
    "deletable": true,
    "editable": true
   },
   "outputs": [],
   "source": [
    "from sklearn.feature_extraction.text import TfidfVectorizer\n",
    "tf = TfidfVectorizer(norm='l2', vocabulary=list(features))"
   ]
  },
  {
   "cell_type": "code",
   "execution_count": 8,
   "metadata": {
    "collapsed": true,
    "deletable": true,
    "editable": true
   },
   "outputs": [],
   "source": [
    "training_matrix =  tf.fit_transform(training_list)\n",
    "training_feature_names = tf.get_feature_names() "
   ]
  },
  {
   "cell_type": "code",
   "execution_count": 9,
   "metadata": {
    "collapsed": true,
    "deletable": true,
    "editable": true
   },
   "outputs": [],
   "source": [
    "denseTrainMatrix = training_matrix.todense()"
   ]
  },
  {
   "cell_type": "code",
   "execution_count": 10,
   "metadata": {
    "collapsed": false,
    "deletable": true,
    "editable": true
   },
   "outputs": [
    {
     "name": "stdout",
     "output_type": "stream",
     "text": [
      "[[ 0.  0.  0. ...,  0.  0.  0.]\n",
      " [ 0.  0.  0. ...,  0.  0.  0.]\n",
      " [ 0.  0.  0. ...,  0.  0.  0.]\n",
      " ..., \n",
      " [ 0.  0.  0. ...,  0.  0.  0.]\n",
      " [ 0.  0.  0. ...,  0.  0.  0.]\n",
      " [ 0.  0.  0. ...,  0.  0.  0.]]\n"
     ]
    }
   ],
   "source": [
    "print(denseTrainMatrix)"
   ]
  },
  {
   "cell_type": "code",
   "execution_count": 11,
   "metadata": {
    "collapsed": true,
    "deletable": true,
    "editable": true
   },
   "outputs": [],
   "source": [
    "def densify(x, n):\n",
    "    \"\"\"Convert a sparse vector to a dense one.\"\"\"\n",
    "    d = [0] * n\n",
    "    for i, v in x:\n",
    "        d[i] = v\n",
    "    return d"
   ]
  },
  {
   "cell_type": "code",
   "execution_count": 12,
   "metadata": {
    "collapsed": false,
    "deletable": true,
    "editable": true
   },
   "outputs": [
    {
     "data": {
      "text/plain": [
       "'def dist(x, c):\\n    Euclidean distance between sample x and cluster center c.\\n    Inputs: x, a sparse vector\\n            c, a dense vector\\n    \\n    sqdist = 0.\\n    for i, v in x:\\n        sqdist += (v - c[i]) ** 2\\n    return sqrt(sqdist)\\n'"
      ]
     },
     "execution_count": 12,
     "metadata": {},
     "output_type": "execute_result"
    }
   ],
   "source": [
    "\"\"\"def dist(x, c):\n",
    "    \"\"\"\"\"\"Euclidean distance between sample x and cluster center c.\n",
    "    Inputs: x, a sparse vector\n",
    "            c, a dense vector\n",
    "    \"\"\"\"\"\"\n",
    "    sqdist = 0.\n",
    "    for i, v in x:\n",
    "        sqdist += (v - c[i]) ** 2\n",
    "    return sqrt(sqdist)\n",
    "\"\"\""
   ]
  },
  {
   "cell_type": "code",
   "execution_count": 13,
   "metadata": {
    "collapsed": true,
    "deletable": true,
    "editable": true
   },
   "outputs": [],
   "source": [
    "def denseToListConvertor(a):\n",
    "    alist = a.tolist()\n",
    "    return alist"
   ]
  },
  {
   "cell_type": "code",
   "execution_count": null,
   "metadata": {
    "collapsed": true,
    "deletable": true,
    "editable": true
   },
   "outputs": [],
   "source": []
  },
  {
   "cell_type": "code",
   "execution_count": 119,
   "metadata": {
    "collapsed": false,
    "deletable": true,
    "editable": true
   },
   "outputs": [],
   "source": [
    "def dist(aVector, bVector):\n",
    "    \"\"\"\n",
    "    \n",
    "    print \"--\"\n",
    "\n",
    "    print len(aVector)\n",
    "    print aVector\n",
    "    \n",
    "    print \"--\"\n",
    "    \n",
    "    print len(bVector)\n",
    "    print bVector\n",
    "\n",
    "    print \"--\"\n",
    "    \"\"\"\n",
    "\n",
    "    a =  denseToListConvertor(aVector)\n",
    "    b =  denseToListConvertor(bVector)\n",
    "    \n",
    "    print \"a[0][0] : \"+ str(a[0][0])\n",
    "    print \"b[0][0] : \" + str(b[0][0])\n",
    "    \n",
    "    #print '---'\n",
    "    \n",
    "    dimensions = len(a[0])\n",
    "    print dimensions\n",
    "    \n",
    "    _sum = 0\n",
    "    for dimension in xrange(dimensions):\n",
    "\n",
    "        #print(dimension)\n",
    "        difference_sq = (a[0][dimension] - b[0][dimension]) ** 2\n",
    "        _sum += difference_sq\n",
    "        \n",
    "    print \"Distance: \"+ str(sqrt(_sum))\n",
    "    return sqrt(_sum)"
   ]
  },
  {
   "cell_type": "code",
   "execution_count": 120,
   "metadata": {
    "collapsed": true,
    "deletable": true,
    "editable": true
   },
   "outputs": [],
   "source": [
    "def mean(xs, l):\n",
    "    \"\"\"Mean (as a dense vector) of a set of sparse vectors of length l.\"\"\"\n",
    "    c = [0.] * l\n",
    "    n = 0\n",
    "    for x in xs:\n",
    "        for i, v in x:\n",
    "            c[i] += v\n",
    "        n += 1\n",
    "    for i in xrange(l):\n",
    "        c[i] /= n\n",
    "    return c\n"
   ]
  },
  {
   "cell_type": "code",
   "execution_count": 121,
   "metadata": {
    "collapsed": false,
    "deletable": true,
    "editable": true
   },
   "outputs": [],
   "source": [
    "def kmeans(k, xs, l, n_iter=10):\n",
    "    # Initialize from random points.\n",
    "    #centers = [densify(xs[i], l) for i in random.sample(xrange(len(xs)), k)]\n",
    "    centers = [xs[i] for i in random.sample(xrange(len(xs)), k)]\n",
    "    \n",
    "    #centers = [random.sample(xrange(len(xs)),k)]* len(xs)\n",
    "    cluster = [None] * len(xs)\n",
    "\n",
    "    \n",
    "    print \"CLUSTER: \"+str(len(cluster))\n",
    "    \n",
    "    print \"centers : \"+ str(len(centers))\n",
    "    #print \"Center are : \"+str(centers)\n",
    "    \n",
    "    \n",
    "    \n",
    "    for _ in xrange(n_iter):\n",
    "        for i, x in enumerate(xs):\n",
    "            \n",
    "            print \"Iteration : \"+str(i)\n",
    "            print \"Value of x in process : \"+str(x)\n",
    "          \n",
    "            listCenterDistance = []\n",
    "            \n",
    "            for center in centers:\n",
    "                listCenterDistance.append(dist(xs[i], center))\n",
    "            \n",
    "            cluster[i] = listCenterDistance.index(min(listCenterDistance))\n",
    "                    \n",
    "            \n",
    "                    \n",
    "        \n",
    "            #print \"Distance: \"+ str(dist(xs[i], centers[i]))\n",
    "            \n",
    "            \n",
    "  \n",
    "            \n",
    "            #cluster[i] = min(xrange(k), key=lambda j: dist(xs[i], centers[j]))\n",
    "        \n",
    "        \n",
    "        #for j, c in enumerate(centers):\n",
    "         #   members = (x for i, x in enumerate(xs) if cluster[i] == j)\n",
    "          #  centers[j] = mean(members, l)\n",
    "\n",
    "    return cluster\n"
   ]
  },
  {
   "cell_type": "code",
   "execution_count": 122,
   "metadata": {
    "collapsed": false,
    "deletable": true,
    "editable": true
   },
   "outputs": [
    {
     "name": "stdout",
     "output_type": "stream",
     "text": [
      "usage: 3 k docs...\n",
      "CLUSTER: 8580\n",
      "centers : 3\n",
      "Iteration : 0\n",
      "Value of x in process : [[ 0.  0.  0. ...,  0.  0.  0.]]\n",
      "a[0][0] : 0.0\n",
      "b[0][0] : 0.0\n",
      "27673\n"
     ]
    },
    {
     "ename": "TypeError",
     "evalue": "unsupported operand type(s) for -: 'float' and 'list'",
     "output_type": "error",
     "traceback": [
      "\u001b[0;31m---------------------------------------------------------------------------\u001b[0m",
      "\u001b[0;31mTypeError\u001b[0m                                 Traceback (most recent call last)",
      "\u001b[0;32m<ipython-input-122-712683c4618f>\u001b[0m in \u001b[0;36m<module>\u001b[0;34m()\u001b[0m\n\u001b[1;32m     12\u001b[0m \u001b[0;34m\u001b[0m\u001b[0m\n\u001b[1;32m     13\u001b[0m \u001b[0;34m\u001b[0m\u001b[0m\n\u001b[0;32m---> 14\u001b[0;31m \u001b[0mcluster_ind\u001b[0m \u001b[0;34m=\u001b[0m \u001b[0mkmeans\u001b[0m\u001b[0;34m(\u001b[0m\u001b[0mk\u001b[0m\u001b[0;34m,\u001b[0m \u001b[0mxs\u001b[0m\u001b[0;34m,\u001b[0m \u001b[0mlen\u001b[0m\u001b[0;34m(\u001b[0m\u001b[0mvocab\u001b[0m\u001b[0;34m)\u001b[0m\u001b[0;34m)\u001b[0m\u001b[0;34m\u001b[0m\u001b[0m\n\u001b[0m\u001b[1;32m     15\u001b[0m \u001b[0;34m\u001b[0m\u001b[0m\n\u001b[1;32m     16\u001b[0m \u001b[0;32mprint\u001b[0m\u001b[0;34m(\u001b[0m\u001b[0mcluster_ind\u001b[0m\u001b[0;34m)\u001b[0m\u001b[0;34m\u001b[0m\u001b[0m\n",
      "\u001b[0;32m<ipython-input-121-1c8a018d68c0>\u001b[0m in \u001b[0;36mkmeans\u001b[0;34m(k, xs, l, n_iter)\u001b[0m\n\u001b[1;32m     24\u001b[0m \u001b[0;34m\u001b[0m\u001b[0m\n\u001b[1;32m     25\u001b[0m             \u001b[0;32mfor\u001b[0m \u001b[0mcenter\u001b[0m \u001b[0;32min\u001b[0m \u001b[0mcenters\u001b[0m\u001b[0;34m:\u001b[0m\u001b[0;34m\u001b[0m\u001b[0m\n\u001b[0;32m---> 26\u001b[0;31m                 \u001b[0mlistCenterDistance\u001b[0m\u001b[0;34m.\u001b[0m\u001b[0mappend\u001b[0m\u001b[0;34m(\u001b[0m\u001b[0mdist\u001b[0m\u001b[0;34m(\u001b[0m\u001b[0mxs\u001b[0m\u001b[0;34m[\u001b[0m\u001b[0mi\u001b[0m\u001b[0;34m]\u001b[0m\u001b[0;34m,\u001b[0m \u001b[0mcenter\u001b[0m\u001b[0;34m)\u001b[0m\u001b[0;34m)\u001b[0m\u001b[0;34m\u001b[0m\u001b[0m\n\u001b[0m\u001b[1;32m     27\u001b[0m \u001b[0;34m\u001b[0m\u001b[0m\n\u001b[1;32m     28\u001b[0m             \u001b[0mcluster\u001b[0m\u001b[0;34m[\u001b[0m\u001b[0mi\u001b[0m\u001b[0;34m]\u001b[0m \u001b[0;34m=\u001b[0m \u001b[0mlistCenterDistance\u001b[0m\u001b[0;34m.\u001b[0m\u001b[0mindex\u001b[0m\u001b[0;34m(\u001b[0m\u001b[0mmin\u001b[0m\u001b[0;34m(\u001b[0m\u001b[0mlistCenterDistance\u001b[0m\u001b[0;34m)\u001b[0m\u001b[0;34m)\u001b[0m\u001b[0;34m\u001b[0m\u001b[0m\n",
      "\u001b[0;32m<ipython-input-119-b1208f9487b8>\u001b[0m in \u001b[0;36mdist\u001b[0;34m(aVector, bVector)\u001b[0m\n\u001b[1;32m     30\u001b[0m \u001b[0;34m\u001b[0m\u001b[0m\n\u001b[1;32m     31\u001b[0m         \u001b[0;31m#print(dimension)\u001b[0m\u001b[0;34m\u001b[0m\u001b[0;34m\u001b[0m\u001b[0m\n\u001b[0;32m---> 32\u001b[0;31m         \u001b[0mdifference_sq\u001b[0m \u001b[0;34m=\u001b[0m \u001b[0;34m(\u001b[0m\u001b[0ma\u001b[0m\u001b[0;34m[\u001b[0m\u001b[0;36m0\u001b[0m\u001b[0;34m]\u001b[0m\u001b[0;34m[\u001b[0m\u001b[0mdimension\u001b[0m\u001b[0;34m]\u001b[0m \u001b[0;34m-\u001b[0m \u001b[0mb\u001b[0m\u001b[0;34m[\u001b[0m\u001b[0mdimension\u001b[0m\u001b[0;34m]\u001b[0m\u001b[0;34m)\u001b[0m \u001b[0;34m**\u001b[0m \u001b[0;36m2\u001b[0m\u001b[0;34m\u001b[0m\u001b[0m\n\u001b[0m\u001b[1;32m     33\u001b[0m         \u001b[0m_sum\u001b[0m \u001b[0;34m+=\u001b[0m \u001b[0mdifference_sq\u001b[0m\u001b[0;34m\u001b[0m\u001b[0m\n\u001b[1;32m     34\u001b[0m \u001b[0;34m\u001b[0m\u001b[0m\n",
      "\u001b[0;31mTypeError\u001b[0m: unsupported operand type(s) for -: 'float' and 'list'"
     ]
    }
   ],
   "source": [
    "import re\n",
    "import sys\n",
    "\n",
    "KValue= 3\n",
    "print(\"usage: %s k docs...\" % KValue)\n",
    "\n",
    "k=KValue\n",
    "\n",
    "\n",
    "vocab = features\n",
    "xs = denseTrainMatrix\n",
    "\n",
    "\n",
    "cluster_ind = kmeans(k, xs, len(vocab))\n",
    "\n",
    "print(cluster_ind)\n",
    "\n",
    "#clusters = [set() for _ in xrange(k)]\n",
    "#for i, j in enumerate(cluster_ind):\n",
    "#    clusters[j].add(i)\n",
    "\n",
    "#for j, c in enumerate(clusters):\n",
    "#    print(\"cluster %d:\" % j)\n",
    "    #for i in c:\n",
    "        #print(\"\\t%s\" % args[i])"
   ]
  },
  {
   "cell_type": "code",
   "execution_count": null,
   "metadata": {
    "collapsed": true,
    "deletable": true,
    "editable": true
   },
   "outputs": [],
   "source": []
  },
  {
   "cell_type": "code",
   "execution_count": null,
   "metadata": {
    "collapsed": true,
    "deletable": true,
    "editable": true
   },
   "outputs": [],
   "source": []
  }
 ],
 "metadata": {
  "kernelspec": {
   "display_name": "Python 2",
   "language": "python",
   "name": "python2"
  },
  "language_info": {
   "codemirror_mode": {
    "name": "ipython",
    "version": 2
   },
   "file_extension": ".py",
   "mimetype": "text/x-python",
   "name": "python",
   "nbconvert_exporter": "python",
   "pygments_lexer": "ipython2",
   "version": "2.7.12"
  }
 },
 "nbformat": 4,
 "nbformat_minor": 2
}
