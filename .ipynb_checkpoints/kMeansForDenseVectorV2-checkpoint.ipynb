{
 "cells": [
  {
   "cell_type": "code",
   "execution_count": 3,
   "metadata": {
    "collapsed": true,
    "deletable": true,
    "editable": true
   },
   "outputs": [],
   "source": [
    "import numpy as np\n",
    "\n",
    "import scipy as sp\n",
    "from scipy import spatial\n",
    "\n",
    "from collections import defaultdict\n",
    "from random import uniform\n",
    "from math import sqrt\n",
    "\n",
    "from sklearn.feature_extraction.text import TfidfVectorizer, CountVectorizer\n",
    "\n",
    "vectorizer = CountVectorizer()\n",
    "\n",
    "from collections import defaultdict\n",
    "from math import sqrt\n",
    "import random"
   ]
  },
  {
   "cell_type": "code",
   "execution_count": 4,
   "metadata": {
    "collapsed": false,
    "deletable": true,
    "editable": true
   },
   "outputs": [
    {
     "name": "stdout",
     "output_type": "stream",
     "text": [
      "('Line count in training :', 8580)\n",
      "('Line count in format :', 8194)\n"
     ]
    }
   ],
   "source": [
    "with open(\"Data/train.dat\", \"r\") as fh:\n",
    "    linesOfTrainData = fh.readlines()\n",
    "print(\"Line count in training :\" ,len(linesOfTrainData))\n",
    "\n",
    "#with open(\"TestData/format.dat\", \"r\") as fh:\n",
    "with open(\"Data/format.dat\", \"r\") as fh:\n",
    "    linesOfFormat = fh.readlines()\n",
    "print(\"Line count in format :\" ,len(linesOfFormat))\n"
   ]
  },
  {
   "cell_type": "code",
   "execution_count": 5,
   "metadata": {
    "collapsed": false,
    "deletable": true,
    "editable": true
   },
   "outputs": [
    {
     "name": "stdout",
     "output_type": "stream",
     "text": [
      "('Line count in training :', 100)\n"
     ]
    }
   ],
   "source": [
    "linesOfTrainData = linesOfTrainData[:100]\n",
    "print(\"Line count in training :\" ,len(linesOfTrainData))"
   ]
  },
  {
   "cell_type": "code",
   "execution_count": 6,
   "metadata": {
    "collapsed": true,
    "deletable": true,
    "editable": true
   },
   "outputs": [],
   "source": [
    "vectorizer = CountVectorizer(lowercase = True)"
   ]
  },
  {
   "cell_type": "code",
   "execution_count": 7,
   "metadata": {
    "collapsed": true,
    "deletable": true,
    "editable": true
   },
   "outputs": [],
   "source": [
    "training_list = []\n",
    "\n",
    "for td in linesOfTrainData:\n",
    "    training_list.append(td)"
   ]
  },
  {
   "cell_type": "code",
   "execution_count": 8,
   "metadata": {
    "collapsed": true,
    "deletable": true,
    "editable": true
   },
   "outputs": [],
   "source": [
    "features =  set()\n",
    "def feature_selection(data):\n",
    "    for rows in data:\n",
    "        for feat in  rows.split():\n",
    "            features.add(feat)"
   ]
  },
  {
   "cell_type": "code",
   "execution_count": 9,
   "metadata": {
    "collapsed": false,
    "deletable": true,
    "editable": true
   },
   "outputs": [
    {
     "name": "stdout",
     "output_type": "stream",
     "text": [
      "3913\n"
     ]
    }
   ],
   "source": [
    "feature_selection(training_list)\n",
    "print(len(features))"
   ]
  },
  {
   "cell_type": "code",
   "execution_count": 10,
   "metadata": {
    "collapsed": true,
    "deletable": true,
    "editable": true
   },
   "outputs": [],
   "source": [
    "from sklearn.feature_extraction.text import TfidfVectorizer\n",
    "tf = TfidfVectorizer(norm='l2', vocabulary=list(features))"
   ]
  },
  {
   "cell_type": "code",
   "execution_count": 11,
   "metadata": {
    "collapsed": true,
    "deletable": true,
    "editable": true
   },
   "outputs": [],
   "source": [
    "training_matrix =  tf.fit_transform(training_list)\n",
    "training_feature_names = tf.get_feature_names() "
   ]
  },
  {
   "cell_type": "code",
   "execution_count": 12,
   "metadata": {
    "collapsed": true,
    "deletable": true,
    "editable": true
   },
   "outputs": [],
   "source": [
    "denseTrainMatrix = training_matrix.todense()"
   ]
  },
  {
   "cell_type": "code",
   "execution_count": 13,
   "metadata": {
    "collapsed": false,
    "deletable": true,
    "editable": true
   },
   "outputs": [
    {
     "name": "stdout",
     "output_type": "stream",
     "text": [
      "[[ 0.          0.          0.         ...,  0.          0.05551714\n",
      "   0.07020532]\n",
      " [ 0.          0.          0.         ...,  0.          0.          0.        ]\n",
      " [ 0.          0.          0.         ...,  0.          0.          0.04840035]\n",
      " ..., \n",
      " [ 0.          0.          0.         ...,  0.          0.          0.        ]\n",
      " [ 0.          0.          0.         ...,  0.          0.          0.        ]\n",
      " [ 0.          0.          0.         ...,  0.          0.07804793  0.        ]]\n"
     ]
    }
   ],
   "source": [
    "print(denseTrainMatrix)"
   ]
  },
  {
   "cell_type": "code",
   "execution_count": 14,
   "metadata": {
    "collapsed": true,
    "deletable": true,
    "editable": true
   },
   "outputs": [],
   "source": [
    "def densify(x, n):\n",
    "    \"\"\"Convert a sparse vector to a dense one.\"\"\"\n",
    "    d = [0] * n\n",
    "    for i, v in x:\n",
    "        d[i] = v\n",
    "    return d"
   ]
  },
  {
   "cell_type": "code",
   "execution_count": 15,
   "metadata": {
    "collapsed": false,
    "deletable": true,
    "editable": true
   },
   "outputs": [
    {
     "data": {
      "text/plain": [
       "'def dist(x, c):\\n    Euclidean distance between sample x and cluster center c.\\n    Inputs: x, a sparse vector\\n            c, a dense vector\\n    \\n    sqdist = 0.\\n    for i, v in x:\\n        sqdist += (v - c[i]) ** 2\\n    return sqrt(sqdist)\\n'"
      ]
     },
     "execution_count": 15,
     "metadata": {},
     "output_type": "execute_result"
    }
   ],
   "source": [
    "\"\"\"def dist(x, c):\n",
    "    \"\"\"\"\"\"Euclidean distance between sample x and cluster center c.\n",
    "    Inputs: x, a sparse vector\n",
    "            c, a dense vector\n",
    "    \"\"\"\"\"\"\n",
    "    sqdist = 0.\n",
    "    for i, v in x:\n",
    "        sqdist += (v - c[i]) ** 2\n",
    "    return sqrt(sqdist)\n",
    "\"\"\""
   ]
  },
  {
   "cell_type": "code",
   "execution_count": 16,
   "metadata": {
    "collapsed": true,
    "deletable": true,
    "editable": true
   },
   "outputs": [],
   "source": [
    "def denseToListConvertor(a):\n",
    "    if isinstance(a, list):\n",
    "        return a\n",
    "    else:    \n",
    "        alist = a.tolist()\n",
    "        return alist"
   ]
  },
  {
   "cell_type": "code",
   "execution_count": null,
   "metadata": {
    "collapsed": true,
    "deletable": true,
    "editable": true
   },
   "outputs": [],
   "source": []
  },
  {
   "cell_type": "code",
   "execution_count": 81,
   "metadata": {
    "collapsed": false,
    "deletable": true,
    "editable": true
   },
   "outputs": [],
   "source": [
    "def dist(aVector, bVector):\n",
    "    \"\"\"\n",
    "    \n",
    "    print \"--\"\n",
    "\n",
    "    print len(aVector)\n",
    "    print aVector\n",
    "    \n",
    "    print \"--\"\n",
    "    \n",
    "    print len(bVector)\n",
    "    print bVector\n",
    "\n",
    "    print \"--\"\n",
    "    \"\"\"\n",
    "\n",
    "    a =  denseToListConvertor(aVector)\n",
    "    b =  denseToListConvertor(bVector)\n",
    "    \n",
    "    #print \"a[0][0] : \"+ str(a[0][0])\n",
    "    #print \"b[0][0] : \" + str(b[0][0])\n",
    "    \n",
    "    #print '---'\n",
    "    \n",
    "    dimensions = len(a[0])\n",
    "    #print dimensions\n",
    "    \n",
    "    _sum = 0\n",
    "    for dimension in xrange(dimensions):\n",
    "\n",
    "        #print(dimension)\n",
    "        difference_sq = (a[0][dimension] - b[0][dimension]) ** 2\n",
    "        _sum += difference_sq\n",
    "        \n",
    "    #print \"Distance: \"+ str(sqrt(_sum))\n",
    "    return sqrt(_sum)"
   ]
  },
  {
   "cell_type": "code",
   "execution_count": 62,
   "metadata": {
    "collapsed": false,
    "deletable": true,
    "editable": true
   },
   "outputs": [],
   "source": [
    "def computeAvg(avgList):\n",
    "    print \"Count of avg list: \"+str(len(avgList))\n",
    "    sum= avgList[0]\n",
    "    for listElement in avgList[1:]:\n",
    "        i=0\n",
    "        for item in listElement:\n",
    "            sum[i] = sum[i]+item    \n",
    "            i = i+1\n",
    "        \n",
    "    #print \"sum : \"+str(sum)\n",
    "    \n",
    "    avg = sum\n",
    "    i=0\n",
    "    for item in sum:\n",
    "        avg[i] = item/len(avgList)\n",
    "        i=i+1\n",
    "   \n",
    "    return avg"
   ]
  },
  {
   "cell_type": "code",
   "execution_count": 101,
   "metadata": {
    "collapsed": false,
    "deletable": true,
    "editable": true
   },
   "outputs": [],
   "source": [
    "def dist_test(aVector, bVector):\n",
    "    \"\"\"\n",
    "    \n",
    "    print \"--\"\n",
    "\n",
    "    print len(aVector)\n",
    "    print aVector\n",
    "    \n",
    "    print \"--\"\n",
    "    \n",
    "    print len(bVector)\n",
    "    print bVector\n",
    "\n",
    "    print \"--\"\n",
    "    \"\"\"\n",
    "\n",
    "    a =  denseToListConvertor(aVector)\n",
    "    b =  denseToListConvertor(bVector)\n",
    "    \n",
    "    #print \"len a[0] : \"+ str(len(a[0]))\n",
    "    #print \"len b[0] : \" + str(len(b[0]))\n",
    "    \n",
    "    #print \"a[0][0] : \"+ str(a[0][0])\n",
    "    #print \"b[0][0] : \" + str(b[0][0])\n",
    "    \n",
    "    #print '---'\n",
    "    \n",
    "    dimensions = len(a[0])\n",
    "    #print dimensions\n",
    "    \n",
    "    _sum = 0\n",
    "    for dimension in xrange(dimensions):\n",
    "\n",
    "        #print(dimension)\n",
    "        difference_sq = (a[0][dimension] - b[0][dimension]) ** 2\n",
    "        #print \"difference_sq : \"+str(difference_sq)\n",
    "        _sum += difference_sq\n",
    "        \n",
    "    #print \"Distance: \"+ str(_sum)\n",
    "    #print \"----\"\n",
    "    return sqrt(_sum)"
   ]
  },
  {
   "cell_type": "code",
   "execution_count": 107,
   "metadata": {
    "collapsed": false,
    "deletable": true,
    "editable": true
   },
   "outputs": [],
   "source": [
    "def mean(xs,cluster, k):\n",
    "    i=0\n",
    "    \n",
    "    returnCenters = []\n",
    "    XS = xs.tolist()\n",
    "    while (k > i) :\n",
    "        avgList=[]\n",
    "        for value in XS:\n",
    "            #print \"XS.index(value) : \"+str(XS.index(value))\n",
    "            #print \" K : \"+str(i)+\" and cluster[XS.index(value)] : \"+str(cluster[XS.index(value)])\n",
    "            if cluster[XS.index(value)] == i:\n",
    "                avgList.append(value)\n",
    "                \n",
    "        \n",
    "        returnCenters.append(computeAvg(avgList)) #write this method : computeAvg \n",
    "        \n",
    "        i+=1\n",
    "        \n",
    "        #print \"New centers\"+str(returnCenters)\n",
    "    return returnCenters\n",
    "        \n",
    "            \n",
    "        "
   ]
  },
  {
   "cell_type": "code",
   "execution_count": 108,
   "metadata": {
    "collapsed": true,
    "deletable": true,
    "editable": true
   },
   "outputs": [],
   "source": [
    "def getRandomCenters(xs,k):\n",
    "    randomCenters = []\n",
    "    i=0\n",
    "    while i<k:\n",
    "        randomCenters.append(xs[i].tolist())\n",
    "        i+=1\n",
    "        \n",
    "    return randomCenters\n",
    "    \n",
    "       \n",
    "        "
   ]
  },
  {
   "cell_type": "code",
   "execution_count": 109,
   "metadata": {
    "collapsed": false,
    "deletable": true,
    "editable": true
   },
   "outputs": [],
   "source": [
    "def kmeans(k, xs, l, n_iter=2):\n",
    "    # Initialize from random points.\n",
    "    centers = getRandomCenters(xs,k)\n",
    "\n",
    "    cluster = [None] * len(xs)\n",
    "    \n",
    "    \n",
    "    for _ in xrange(n_iter):\n",
    "        print \"Iteration : \"+str(_)\n",
    "        for i, x in enumerate(xs):\n",
    "            \n",
    "            \n",
    "            #print \"Value of x in process : \"+str(x)\n",
    "          \n",
    "            listCenterDistance = []\n",
    "            \n",
    "            for center in centers:\n",
    "                listCenterDistance.append(dist_test(xs[i], center))        \n",
    "            \n",
    "            #print \"listCenterDistance : \"+str(listCenterDistance)\n",
    "            #print \"min(listCenterDistance) : \"+str(min(listCenterDistance))\n",
    "            #print \"listCenterDistance.index(min(listCenterDistance)) : \"+str(listCenterDistance.index(min(listCenterDistance)))\n",
    "            cluster[i] = listCenterDistance.index(min(listCenterDistance))\n",
    "              \n",
    "        centers = mean(xs,cluster,k) \n",
    "       \n",
    "        #print \"cluster : \"+str(cluster) \n",
    "        print \"--centers-- : \"+ str(len(centers))\n",
    "        \n",
    "    \n",
    "    return cluster\n"
   ]
  },
  {
   "cell_type": "code",
   "execution_count": 110,
   "metadata": {
    "collapsed": false,
    "deletable": true,
    "editable": true,
    "scrolled": true
   },
   "outputs": [
    {
     "name": "stdout",
     "output_type": "stream",
     "text": [
      "usage: 3 k docs...\n",
      "Iteration : 0\n",
      "Iteration : 1\n",
      "Iteration : 2\n",
      "Iteration : 3\n",
      "Iteration : 4\n",
      "Iteration : 5\n",
      "Iteration : 6\n",
      "Iteration : 7\n",
      "Iteration : 8\n",
      "Iteration : 9\n",
      "Iteration : 10\n",
      "Iteration : 11\n",
      "Iteration : 12\n",
      "Iteration : 13\n",
      "Iteration : 14\n",
      "Iteration : 15\n",
      "Iteration : 16\n",
      "Iteration : 17\n",
      "Iteration : 18\n",
      "Iteration : 19\n",
      "Iteration : 20\n",
      "Iteration : 21\n",
      "Iteration : 22\n",
      "Iteration : 23\n",
      "Iteration : 24\n",
      "Iteration : 25\n",
      "Iteration : 26\n",
      "Iteration : 27\n",
      "Iteration : 28\n",
      "Iteration : 29\n",
      "Iteration : 30\n",
      "Iteration : 31\n",
      "Iteration : 32\n",
      "Iteration : 33\n",
      "Iteration : 34\n",
      "Iteration : 35\n",
      "Iteration : 36\n",
      "Iteration : 37\n",
      "Iteration : 38\n",
      "Iteration : 39\n",
      "Iteration : 40\n",
      "Iteration : 41\n",
      "Iteration : 42\n",
      "Iteration : 43\n",
      "Iteration : 44\n",
      "Iteration : 45\n",
      "Iteration : 46\n",
      "Iteration : 47\n",
      "Iteration : 48\n",
      "Iteration : 49\n",
      "Iteration : 50\n",
      "Iteration : 51\n",
      "Iteration : 52\n",
      "Iteration : 53\n",
      "Iteration : 54\n",
      "Iteration : 55\n",
      "Iteration : 56\n",
      "Iteration : 57\n",
      "Iteration : 58\n",
      "Iteration : 59\n",
      "Iteration : 60\n",
      "Iteration : 61\n",
      "Iteration : 62\n",
      "Iteration : 63\n",
      "Iteration : 64\n",
      "Iteration : 65\n",
      "Iteration : 66\n",
      "Iteration : 67\n",
      "Iteration : 68\n",
      "Iteration : 69\n",
      "Iteration : 70\n",
      "Iteration : 71\n",
      "Iteration : 72\n",
      "Iteration : 73\n",
      "Iteration : 74\n",
      "Iteration : 75\n",
      "Iteration : 76\n",
      "Iteration : 77\n",
      "Iteration : 78\n",
      "Iteration : 79\n",
      "Iteration : 80\n",
      "Iteration : 81\n",
      "Iteration : 82\n",
      "Iteration : 83\n",
      "Iteration : 84\n",
      "Iteration : 85\n",
      "Iteration : 86\n",
      "Iteration : 87\n",
      "Iteration : 88\n",
      "Iteration : 89\n",
      "Iteration : 90\n",
      "Iteration : 91\n",
      "Iteration : 92\n",
      "Iteration : 93\n",
      "Iteration : 94\n",
      "Iteration : 95\n",
      "Iteration : 96\n",
      "Iteration : 97\n",
      "Iteration : 98\n",
      "Iteration : 99\n",
      "Count of avg list: 49\n",
      "Count of avg list: 22\n",
      "Count of avg list: 29\n",
      "--centers-- : 3\n",
      "Iteration : 0\n"
     ]
    },
    {
     "ename": "TypeError",
     "evalue": "'float' object has no attribute '__getitem__'",
     "output_type": "error",
     "traceback": [
      "\u001b[0;31m---------------------------------------------------------------------------\u001b[0m",
      "\u001b[0;31mTypeError\u001b[0m                                 Traceback (most recent call last)",
      "\u001b[0;32m<ipython-input-110-0b3bb1263294>\u001b[0m in \u001b[0;36m<module>\u001b[0;34m()\u001b[0m\n\u001b[1;32m     12\u001b[0m \u001b[0;34m\u001b[0m\u001b[0m\n\u001b[1;32m     13\u001b[0m \u001b[0;34m\u001b[0m\u001b[0m\n\u001b[0;32m---> 14\u001b[0;31m \u001b[0mcluster_ind\u001b[0m \u001b[0;34m=\u001b[0m \u001b[0mkmeans\u001b[0m\u001b[0;34m(\u001b[0m\u001b[0mk\u001b[0m\u001b[0;34m,\u001b[0m \u001b[0mxs\u001b[0m\u001b[0;34m,\u001b[0m \u001b[0mlen\u001b[0m\u001b[0;34m(\u001b[0m\u001b[0mvocab\u001b[0m\u001b[0;34m)\u001b[0m\u001b[0;34m)\u001b[0m\u001b[0;34m\u001b[0m\u001b[0m\n\u001b[0m\u001b[1;32m     15\u001b[0m \u001b[0;34m\u001b[0m\u001b[0m\n\u001b[1;32m     16\u001b[0m \u001b[0;32mprint\u001b[0m \u001b[0;34m\"Final cluster : \"\u001b[0m\u001b[0;34m+\u001b[0m\u001b[0mstr\u001b[0m\u001b[0;34m(\u001b[0m\u001b[0mcluster_ind\u001b[0m\u001b[0;34m)\u001b[0m\u001b[0;34m\u001b[0m\u001b[0m\n",
      "\u001b[0;32m<ipython-input-109-aae212a52bfb>\u001b[0m in \u001b[0;36mkmeans\u001b[0;34m(k, xs, l, n_iter)\u001b[0m\n\u001b[1;32m     15\u001b[0m \u001b[0;34m\u001b[0m\u001b[0m\n\u001b[1;32m     16\u001b[0m             \u001b[0;32mfor\u001b[0m \u001b[0mcenter\u001b[0m \u001b[0;32min\u001b[0m \u001b[0mcenters\u001b[0m\u001b[0;34m:\u001b[0m\u001b[0;34m\u001b[0m\u001b[0m\n\u001b[0;32m---> 17\u001b[0;31m                 \u001b[0mlistCenterDistance\u001b[0m\u001b[0;34m.\u001b[0m\u001b[0mappend\u001b[0m\u001b[0;34m(\u001b[0m\u001b[0mdist_test\u001b[0m\u001b[0;34m(\u001b[0m\u001b[0mxs\u001b[0m\u001b[0;34m[\u001b[0m\u001b[0mi\u001b[0m\u001b[0;34m]\u001b[0m\u001b[0;34m,\u001b[0m \u001b[0mcenter\u001b[0m\u001b[0;34m)\u001b[0m\u001b[0;34m)\u001b[0m\u001b[0;34m\u001b[0m\u001b[0m\n\u001b[0m\u001b[1;32m     18\u001b[0m \u001b[0;34m\u001b[0m\u001b[0m\n\u001b[1;32m     19\u001b[0m             \u001b[0;31m#print \"listCenterDistance : \"+str(listCenterDistance)\u001b[0m\u001b[0;34m\u001b[0m\u001b[0;34m\u001b[0m\u001b[0m\n",
      "\u001b[0;32m<ipython-input-101-c07ee17879fc>\u001b[0m in \u001b[0;36mdist_test\u001b[0;34m(aVector, bVector)\u001b[0m\n\u001b[1;32m     33\u001b[0m \u001b[0;34m\u001b[0m\u001b[0m\n\u001b[1;32m     34\u001b[0m         \u001b[0;31m#print(dimension)\u001b[0m\u001b[0;34m\u001b[0m\u001b[0;34m\u001b[0m\u001b[0m\n\u001b[0;32m---> 35\u001b[0;31m         \u001b[0mdifference_sq\u001b[0m \u001b[0;34m=\u001b[0m \u001b[0;34m(\u001b[0m\u001b[0ma\u001b[0m\u001b[0;34m[\u001b[0m\u001b[0;36m0\u001b[0m\u001b[0;34m]\u001b[0m\u001b[0;34m[\u001b[0m\u001b[0mdimension\u001b[0m\u001b[0;34m]\u001b[0m \u001b[0;34m-\u001b[0m \u001b[0mb\u001b[0m\u001b[0;34m[\u001b[0m\u001b[0;36m0\u001b[0m\u001b[0;34m]\u001b[0m\u001b[0;34m[\u001b[0m\u001b[0mdimension\u001b[0m\u001b[0;34m]\u001b[0m\u001b[0;34m)\u001b[0m \u001b[0;34m**\u001b[0m \u001b[0;36m2\u001b[0m\u001b[0;34m\u001b[0m\u001b[0m\n\u001b[0m\u001b[1;32m     36\u001b[0m         \u001b[0;31m#print \"difference_sq : \"+str(difference_sq)\u001b[0m\u001b[0;34m\u001b[0m\u001b[0;34m\u001b[0m\u001b[0m\n\u001b[1;32m     37\u001b[0m         \u001b[0m_sum\u001b[0m \u001b[0;34m+=\u001b[0m \u001b[0mdifference_sq\u001b[0m\u001b[0;34m\u001b[0m\u001b[0m\n",
      "\u001b[0;31mTypeError\u001b[0m: 'float' object has no attribute '__getitem__'"
     ]
    }
   ],
   "source": [
    "import re\n",
    "import sys\n",
    "\n",
    "KValue= 3\n",
    "print(\"usage: %s k docs...\" % KValue)\n",
    "\n",
    "k=KValue\n",
    "\n",
    "\n",
    "vocab = features\n",
    "xs = denseTrainMatrix\n",
    "\n",
    "\n",
    "cluster_ind = kmeans(k, xs, len(vocab))\n",
    "\n",
    "print \"Final cluster : \"+str(cluster_ind)\n"
   ]
  },
  {
   "cell_type": "code",
   "execution_count": null,
   "metadata": {
    "collapsed": true,
    "deletable": true,
    "editable": true
   },
   "outputs": [],
   "source": []
  },
  {
   "cell_type": "code",
   "execution_count": null,
   "metadata": {
    "collapsed": false,
    "deletable": true,
    "editable": true
   },
   "outputs": [],
   "source": []
  },
  {
   "cell_type": "code",
   "execution_count": null,
   "metadata": {
    "collapsed": true,
    "deletable": true,
    "editable": true
   },
   "outputs": [],
   "source": []
  }
 ],
 "metadata": {
  "kernelspec": {
   "display_name": "Python 2",
   "language": "python",
   "name": "python2"
  }
 },
 "nbformat": 4,
 "nbformat_minor": 2
}
