{
 "cells": [
  {
   "cell_type": "code",
   "execution_count": 1,
   "metadata": {
    "collapsed": true,
    "deletable": true,
    "editable": true
   },
   "outputs": [],
   "source": [
    "import numpy as np\n",
    "\n",
    "import scipy as sp\n",
    "from scipy import spatial\n",
    "\n",
    "from collections import defaultdict\n",
    "from random import uniform\n",
    "from math import sqrt\n",
    "\n",
    "from sklearn.feature_extraction.text import TfidfVectorizer, CountVectorizer\n",
    "\n",
    "vectorizer = CountVectorizer()\n",
    "\n",
    "from collections import defaultdict\n",
    "from math import sqrt\n",
    "import random"
   ]
  },
  {
   "cell_type": "code",
   "execution_count": 2,
   "metadata": {
    "collapsed": false,
    "deletable": true,
    "editable": true
   },
   "outputs": [
    {
     "name": "stdout",
     "output_type": "stream",
     "text": [
      "('Line count in training :', 8580)\n",
      "('Line count in format :', 8194)\n"
     ]
    }
   ],
   "source": [
    "with open(\"Data/train.dat\", \"r\") as fh:\n",
    "    linesOfTrainData = fh.readlines()\n",
    "print(\"Line count in training :\" ,len(linesOfTrainData))\n",
    "\n",
    "#with open(\"TestData/format.dat\", \"r\") as fh:\n",
    "with open(\"Data/format.dat\", \"r\") as fh:\n",
    "    linesOfFormat = fh.readlines()\n",
    "print(\"Line count in format :\" ,len(linesOfFormat))\n"
   ]
  },
  {
   "cell_type": "code",
   "execution_count": 3,
   "metadata": {
    "collapsed": false,
    "deletable": true,
    "editable": true
   },
   "outputs": [
    {
     "name": "stdout",
     "output_type": "stream",
     "text": [
      "('Line count in training :', 100)\n"
     ]
    }
   ],
   "source": [
    "#for testing\n",
    "#linesOfTrainData = linesOfTrainData[:100]\n",
    "\n",
    "linesOfTrainData = linesOfTrainData[]\n",
    "print(\"Line count in training :\" ,len(linesOfTrainData))"
   ]
  },
  {
   "cell_type": "code",
   "execution_count": 4,
   "metadata": {
    "collapsed": true,
    "deletable": true,
    "editable": true
   },
   "outputs": [],
   "source": [
    "vectorizer = CountVectorizer(lowercase = True)"
   ]
  },
  {
   "cell_type": "code",
   "execution_count": 5,
   "metadata": {
    "collapsed": true,
    "deletable": true,
    "editable": true
   },
   "outputs": [],
   "source": [
    "training_list = []\n",
    "\n",
    "for td in linesOfTrainData:\n",
    "    training_list.append(td)"
   ]
  },
  {
   "cell_type": "code",
   "execution_count": 6,
   "metadata": {
    "collapsed": true,
    "deletable": true,
    "editable": true
   },
   "outputs": [],
   "source": [
    "features =  set()\n",
    "def feature_selection(data):\n",
    "    for rows in data:\n",
    "        for feat in  rows.split():\n",
    "            features.add(feat)"
   ]
  },
  {
   "cell_type": "code",
   "execution_count": 7,
   "metadata": {
    "collapsed": false,
    "deletable": true,
    "editable": true
   },
   "outputs": [
    {
     "name": "stdout",
     "output_type": "stream",
     "text": [
      "3913\n"
     ]
    }
   ],
   "source": [
    "feature_selection(training_list)\n",
    "print(len(features))"
   ]
  },
  {
   "cell_type": "code",
   "execution_count": 8,
   "metadata": {
    "collapsed": true,
    "deletable": true,
    "editable": true
   },
   "outputs": [],
   "source": [
    "from sklearn.feature_extraction.text import TfidfVectorizer\n",
    "tf = TfidfVectorizer(norm='l2', vocabulary=list(features))"
   ]
  },
  {
   "cell_type": "code",
   "execution_count": 9,
   "metadata": {
    "collapsed": true,
    "deletable": true,
    "editable": true
   },
   "outputs": [],
   "source": [
    "training_matrix =  tf.fit_transform(training_list)\n",
    "training_feature_names = tf.get_feature_names() "
   ]
  },
  {
   "cell_type": "code",
   "execution_count": 10,
   "metadata": {
    "collapsed": true,
    "deletable": true,
    "editable": true
   },
   "outputs": [],
   "source": [
    "denseTrainMatrix = training_matrix.todense()"
   ]
  },
  {
   "cell_type": "code",
   "execution_count": 11,
   "metadata": {
    "collapsed": false,
    "deletable": true,
    "editable": true
   },
   "outputs": [
    {
     "name": "stdout",
     "output_type": "stream",
     "text": [
      "[[ 0.          0.          0.         ...,  0.          0.05551714\n",
      "   0.07020532]\n",
      " [ 0.          0.          0.         ...,  0.          0.          0.        ]\n",
      " [ 0.          0.          0.         ...,  0.          0.          0.04840035]\n",
      " ..., \n",
      " [ 0.          0.          0.         ...,  0.          0.          0.        ]\n",
      " [ 0.          0.          0.         ...,  0.          0.          0.        ]\n",
      " [ 0.          0.          0.         ...,  0.          0.07804793  0.        ]]\n"
     ]
    }
   ],
   "source": [
    "print(denseTrainMatrix)"
   ]
  },
  {
   "cell_type": "code",
   "execution_count": 12,
   "metadata": {
    "collapsed": true,
    "deletable": true,
    "editable": true
   },
   "outputs": [],
   "source": [
    "def densify(x, n):\n",
    "    \"\"\"Convert a sparse vector to a dense one.\"\"\"\n",
    "    d = [0] * n\n",
    "    for i, v in x:\n",
    "        d[i] = v\n",
    "    return d"
   ]
  },
  {
   "cell_type": "code",
   "execution_count": 13,
   "metadata": {
    "collapsed": false,
    "deletable": true,
    "editable": true
   },
   "outputs": [
    {
     "data": {
      "text/plain": [
       "'def dist(x, c):\\n    Euclidean distance between sample x and cluster center c.\\n    Inputs: x, a sparse vector\\n            c, a dense vector\\n    \\n    sqdist = 0.\\n    for i, v in x:\\n        sqdist += (v - c[i]) ** 2\\n    return sqrt(sqdist)\\n'"
      ]
     },
     "execution_count": 13,
     "metadata": {},
     "output_type": "execute_result"
    }
   ],
   "source": [
    "\"\"\"def dist(x, c):\n",
    "    \"\"\"\"\"\"Euclidean distance between sample x and cluster center c.\n",
    "    Inputs: x, a sparse vector\n",
    "            c, a dense vector\n",
    "    \"\"\"\"\"\"\n",
    "    sqdist = 0.\n",
    "    for i, v in x:\n",
    "        sqdist += (v - c[i]) ** 2\n",
    "    return sqrt(sqdist)\n",
    "\"\"\""
   ]
  },
  {
   "cell_type": "code",
   "execution_count": 30,
   "metadata": {
    "collapsed": true,
    "deletable": true,
    "editable": true
   },
   "outputs": [],
   "source": [
    "def denseToListConvertor(a):\n",
    "    if isinstance(a, list):\n",
    "        return a\n",
    "    else:    \n",
    "        alist = a.tolist()\n",
    "        return alist"
   ]
  },
  {
   "cell_type": "code",
   "execution_count": 31,
   "metadata": {
    "collapsed": false,
    "deletable": true,
    "editable": true
   },
   "outputs": [],
   "source": [
    "def computeAvg(avgList):\n",
    "    print \"Count of avg list: \"+str(len(avgList))\n",
    "    sum= avgList[0]\n",
    "    for listElement in avgList[1:]:\n",
    "        i=0\n",
    "        for item in listElement:\n",
    "            sum[i] = sum[i]+item    \n",
    "            i = i+1\n",
    "        \n",
    "    #print \"sum : \"+str(sum)\n",
    "    \n",
    "    avg = sum\n",
    "    i=0\n",
    "    for item in sum:\n",
    "        avg[i] = item/len(avgList)\n",
    "        i=i+1\n",
    "   \n",
    "    return avg"
   ]
  },
  {
   "cell_type": "code",
   "execution_count": 32,
   "metadata": {
    "collapsed": false,
    "deletable": true,
    "editable": true
   },
   "outputs": [],
   "source": [
    "def dist_test(aVector, bVector,_iter):\n",
    "    \"\"\"\n",
    "    \n",
    "    print \"--\"\n",
    "\n",
    "    print len(aVector)\n",
    "    print aVector\n",
    "    \n",
    "    print \"--\"\n",
    "    \n",
    "    print len(bVector)\n",
    "    print bVector\n",
    "\n",
    "    print \"--\"\n",
    "    \"\"\"\n",
    "\n",
    "    a =  denseToListConvertor(aVector)\n",
    "    b =  denseToListConvertor(bVector)\n",
    "    \n",
    "    #print \"len a[0] : \"+ str(len(a[0]))\n",
    "    #print \"len b[0] : \" + str(len(b[0]))\n",
    "    \n",
    "    #print \"a[0][0] : \"+ str(a[0][0])\n",
    "    #print \"b[0][0] : \" + str(b[0][0])\n",
    "    \n",
    "    #print '---'\n",
    "    \n",
    "    dimensions = len(a[0])\n",
    "    #print dimensions\n",
    "    \n",
    "    _sum = 0\n",
    "    for dimension in xrange(dimensions):\n",
    "\n",
    "        #print(dimension)\n",
    "        if _iter ==0:\n",
    "            #print \"a[0][dimension] : \"+str(a[0][dimension])\n",
    "            #print \"b: \"+str(b)\n",
    "            \n",
    "            difference_sq = (a[0][dimension] - b[0][dimension]) ** 2\n",
    "        else:\n",
    "            difference_sq = (a[0][dimension] - b[dimension]) ** 2\n",
    "        #print \"difference_sq : \"+str(difference_sq)\n",
    "        _sum += difference_sq\n",
    "        \n",
    "    #print \"Distance: \"+ str(_sum)\n",
    "    #print \"----\"\n",
    "    return sqrt(_sum)"
   ]
  },
  {
   "cell_type": "code",
   "execution_count": 33,
   "metadata": {
    "collapsed": false,
    "deletable": true,
    "editable": true
   },
   "outputs": [],
   "source": [
    "#Goal of this method is to get the new centers\n",
    "def mean(xs,cluster, k):\n",
    "    i=0  \n",
    "    returnCenters = []\n",
    "    XS = xs.tolist()\n",
    "    while (k > i) :\n",
    "        avgList=[]\n",
    "        for value in XS:\n",
    "            #print \"XS.index(value) : \"+str(XS.index(value))\n",
    "            #print \" K : \"+str(i)+\" and cluster[XS.index(value)] : \"+str(cluster[XS.index(value)])\n",
    "            if cluster[XS.index(value)] == i:\n",
    "                avgList.append(value)\n",
    "                \n",
    "        \n",
    "        returnCenters.append(computeAvg(avgList)) #ComputeAvg will give us the avg of all the nodes \n",
    "        \n",
    "        i+=1\n",
    "        \n",
    "        #print \"New centers\"+str(returnCenters)\n",
    "    return returnCenters\n",
    "        \n",
    "            \n",
    "        "
   ]
  },
  {
   "cell_type": "code",
   "execution_count": 34,
   "metadata": {
    "collapsed": true,
    "deletable": true,
    "editable": true
   },
   "outputs": [],
   "source": [
    "def getRandomCenters(xs,k):\n",
    "    randomCenters = []\n",
    "    i=0\n",
    "    while i<k:\n",
    "        randomCenters.append(xs[i].tolist())\n",
    "        i+=1\n",
    "        \n",
    "    return randomCenters\n",
    "    \n",
    "       \n",
    "        "
   ]
  },
  {
   "cell_type": "code",
   "execution_count": 39,
   "metadata": {
    "collapsed": false,
    "deletable": true,
    "editable": true
   },
   "outputs": [],
   "source": [
    "def kmeans(k, xs, l, n_iter=5):\n",
    "    # Initialize from random points.\n",
    "    centers = getRandomCenters(xs,k)\n",
    "    \n",
    "    #Initialize clusters to \n",
    "    cluster = [None] * len(xs)\n",
    "    \n",
    "    #Iterate for n_iter\n",
    "    for _ in xrange(n_iter):\n",
    "        print \"Iteration : \"+str(_)\n",
    "        #print \"Centers : \"+str(centers)\n",
    "        \n",
    "        #for each row in list xs\n",
    "        for i, x in enumerate(xs):          \n",
    "            \n",
    "            #list of all the center distances\n",
    "            listCenterDistance = []\n",
    "            for center in centers:\n",
    "                listCenterDistance.append(dist_test(x.tolist(), center ,_))        \n",
    "            \n",
    "            #print \"listCenterDistance : \"+str(listCenterDistance)\n",
    "            #print \"min(listCenterDistance) : \"+str(min(listCenterDistance))\n",
    "            #print \"listCenterDistance.index(min(listCenterDistance)) : \"+str(listCenterDistance.index(min(listCenterDistance)))\n",
    "            cluster[i] = listCenterDistance.index(min(listCenterDistance))\n",
    "              \n",
    "        #Adjust the centers        \n",
    "        centers = mean(xs,cluster,k) \n",
    "       \n",
    "        #print \"cluster : \"+str(cluster) \n",
    "        #print \"--centers-- : \"+ str(len(centers))\n",
    "        \n",
    "    \n",
    "    return cluster\n"
   ]
  },
  {
   "cell_type": "code",
   "execution_count": 40,
   "metadata": {
    "collapsed": false,
    "deletable": true,
    "editable": true,
    "scrolled": true
   },
   "outputs": [
    {
     "name": "stdout",
     "output_type": "stream",
     "text": [
      "usage: 7 k docs...\n",
      "Iteration : 0\n",
      "Count of avg list: 18\n",
      "Count of avg list: 9\n",
      "Count of avg list: 7\n",
      "Count of avg list: 40\n",
      "Count of avg list: 7\n",
      "Count of avg list: 15\n",
      "Count of avg list: 4\n",
      "Iteration : 1\n",
      "Count of avg list: 19\n",
      "Count of avg list: 9\n",
      "Count of avg list: 7\n",
      "Count of avg list: 38\n",
      "Count of avg list: 8\n",
      "Count of avg list: 15\n",
      "Count of avg list: 4\n",
      "Iteration : 2\n",
      "Count of avg list: 19\n",
      "Count of avg list: 9\n",
      "Count of avg list: 7\n",
      "Count of avg list: 38\n",
      "Count of avg list: 8\n",
      "Count of avg list: 15\n",
      "Count of avg list: 4\n",
      "Iteration : 3\n",
      "Count of avg list: 19\n",
      "Count of avg list: 9\n",
      "Count of avg list: 7\n",
      "Count of avg list: 38\n",
      "Count of avg list: 8\n",
      "Count of avg list: 15\n",
      "Count of avg list: 4\n",
      "Iteration : 4\n",
      "Count of avg list: 19\n",
      "Count of avg list: 9\n",
      "Count of avg list: 7\n",
      "Count of avg list: 38\n",
      "Count of avg list: 8\n",
      "Count of avg list: 15\n",
      "Count of avg list: 4\n",
      "Final cluster : [0, 1, 2, 3, 4, 5, 6, 0, 3, 3, 0, 5, 3, 1, 0, 2, 3, 3, 3, 0, 3, 3, 5, 5, 5, 1, 5, 2, 5, 3, 0, 3, 2, 4, 0, 5, 5, 3, 0, 3, 1, 3, 3, 3, 0, 3, 4, 4, 0, 0, 3, 6, 1, 5, 3, 0, 3, 3, 0, 3, 6, 3, 3, 0, 3, 0, 5, 5, 4, 3, 0, 5, 4, 0, 3, 2, 2, 3, 3, 2, 1, 3, 0, 3, 3, 4, 5, 1, 4, 3, 3, 3, 3, 1, 5, 1, 3, 3, 6, 0]\n"
     ]
    }
   ],
   "source": [
    "import re\n",
    "import sys\n",
    "\n",
    "KValue= 7\n",
    "print(\"usage: %s k docs...\" % KValue)\n",
    "\n",
    "k=KValue\n",
    "\n",
    "\n",
    "vocab = features\n",
    "xs = denseTrainMatrix\n",
    "\n",
    "\n",
    "cluster_ind = kmeans(k, xs, len(vocab))\n",
    "\n",
    "print \"Final cluster : \"+str(cluster_ind)\n"
   ]
  },
  {
   "cell_type": "code",
   "execution_count": null,
   "metadata": {
    "collapsed": true,
    "deletable": true,
    "editable": true
   },
   "outputs": [],
   "source": [
    "\n",
    "f = open('Data/format.dat', 'w')\n",
    "count = 0\n",
    "for clusterValue in cluster_ind:\n",
    "    #print(clusterValue)\n",
    "    f.write(str(clusterValue+1)+'\\n')\n",
    "    count+=1\n",
    "print(\"count : \",count)\n",
    "print(\"--The End--\")"
   ]
  },
  {
   "cell_type": "code",
   "execution_count": null,
   "metadata": {
    "collapsed": false,
    "deletable": true,
    "editable": true
   },
   "outputs": [],
   "source": []
  },
  {
   "cell_type": "code",
   "execution_count": null,
   "metadata": {
    "collapsed": true,
    "deletable": true,
    "editable": true
   },
   "outputs": [],
   "source": []
  }
 ],
 "metadata": {
  "kernelspec": {
   "display_name": "Python 2",
   "language": "python",
   "name": "python2"
  },
  "language_info": {
   "codemirror_mode": {
    "name": "ipython",
    "version": 2
   },
   "file_extension": ".py",
   "mimetype": "text/x-python",
   "name": "python",
   "nbconvert_exporter": "python",
   "pygments_lexer": "ipython2",
   "version": "2.7.12"
  }
 },
 "nbformat": 4,
 "nbformat_minor": 2
}
