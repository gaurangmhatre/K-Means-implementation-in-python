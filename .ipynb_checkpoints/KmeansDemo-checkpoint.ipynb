{
 "cells": [
  {
   "cell_type": "code",
   "execution_count": null,
   "metadata": {
    "collapsed": true
   },
   "outputs": [],
   "source": [
    "from collections import defaultdict\n",
    "from random import uniform\n",
    "from math import sqrt"
   ]
  },
  {
   "cell_type": "code",
   "execution_count": null,
   "metadata": {
    "collapsed": true
   },
   "outputs": [],
   "source": [
    "def point_avg(points):\n",
    "    \"\"\"\n",
    "    Accepts a list of points, each with the same number of dimensions.\n",
    "    NB. points can have more dimensions than 2\n",
    "    \n",
    "    Returns a new point which is the center of all the points.\n",
    "    \"\"\"\n",
    "    dimensions = len(points[0])\n",
    "\n",
    "    new_center = []\n",
    "\n",
    "    for dimension in xrange(dimensions):\n",
    "        dim_sum = 0  # dimension sum\n",
    "        for p in points:\n",
    "            dim_sum += p[dimension]\n",
    "\n",
    "        # average of each dimension\n",
    "        new_center.append(dim_sum / float(len(points)))\n",
    "\n",
    "    return new_center"
   ]
  },
  {
   "cell_type": "code",
   "execution_count": null,
   "metadata": {
    "collapsed": true
   },
   "outputs": [],
   "source": [
    "def update_centers(data_set, assignments):\n",
    "    \"\"\"\n",
    "    Accepts a dataset and a list of assignments; the indexes \n",
    "    of both lists correspond to each other.\n",
    "    Compute the center for each of the assigned groups.\n",
    "    Return `k` centers where `k` is the number of unique assignments.\n",
    "    \"\"\"\n",
    "    new_means = defaultdict(list)\n",
    "    centers = []\n",
    "    for assignment, point in zip(assignments, data_set):\n",
    "        new_means[assignment].append(point)\n",
    "        \n",
    "    for points in new_means.itervalues():\n",
    "        centers.append(point_avg(points))\n",
    "\n",
    "    return centers"
   ]
  },
  {
   "cell_type": "code",
   "execution_count": null,
   "metadata": {
    "collapsed": true
   },
   "outputs": [],
   "source": [
    "def assign_points(data_points, centers):\n",
    "    \"\"\"\n",
    "    Given a data set and a list of points betweeen other points,\n",
    "    assign each point to an index that corresponds to the index\n",
    "    of the center point on it's proximity to that point. \n",
    "    Return a an array of indexes of centers that correspond to\n",
    "    an index in the data set; that is, if there are N points\n",
    "    in `data_set` the list we return will have N elements. Also\n",
    "    If there are Y points in `centers` there will be Y unique\n",
    "    possible values within the returned list.\n",
    "    \"\"\"\n",
    "    assignments = []\n",
    "    for point in data_points:\n",
    "        shortest = ()  # positive infinity\n",
    "        shortest_index = 0\n",
    "        for i in xrange(len(centers)):\n",
    "            val = distance(point, centers[i])\n",
    "            if val < shortest:\n",
    "                shortest = val\n",
    "                shortest_index = i\n",
    "        assignments.append(shortest_index)\n",
    "    return assignments"
   ]
  },
  {
   "cell_type": "code",
   "execution_count": null,
   "metadata": {
    "collapsed": true
   },
   "outputs": [],
   "source": [
    "def distance(a, b):\n",
    "    \"\"\"\n",
    "    \"\"\"\n",
    "    dimensions = len(a)\n",
    "    \n",
    "    _sum = 0\n",
    "    for dimension in xrange(dimensions):\n",
    "        difference_sq = (a[dimension] - b[dimension]) ** 2\n",
    "        _sum += difference_sq\n",
    "    return sqrt(_sum)"
   ]
  },
  {
   "cell_type": "code",
   "execution_count": null,
   "metadata": {
    "collapsed": true
   },
   "outputs": [],
   "source": [
    "def generate_k(data_set, k):\n",
    "    \"\"\"\n",
    "    Given `data_set`, which is an array of arrays,\n",
    "    find the minimum and maximum for each coordinate, a range.\n",
    "    Generate `k` random points between the ranges.\n",
    "    Return an array of the random points within the ranges.\n",
    "    \"\"\"\n",
    "    centers = []\n",
    "    dimensions = len(data_set[0])\n",
    "    min_max = defaultdict(int)\n",
    "\n",
    "    for point in data_set:\n",
    "        for i in xrange(dimensions):\n",
    "            val = point[i]\n",
    "            min_key = 'min_%d' % i\n",
    "            max_key = 'max_%d' % i\n",
    "            if min_key not in min_max or val < min_max[min_key]:\n",
    "                min_max[min_key] = val\n",
    "            if max_key not in min_max or val > min_max[max_key]:\n",
    "                min_max[max_key] = val\n",
    "\n",
    "    for _k in xrange(k):\n",
    "        rand_point = []\n",
    "        for i in xrange(dimensions):\n",
    "            min_val = min_max['min_%d' % i]\n",
    "            max_val = min_max['max_%d' % i]\n",
    "            \n",
    "            rand_point.append(uniform(min_val, max_val))\n",
    "\n",
    "        centers.append(rand_point)\n",
    "\n",
    "    return centers"
   ]
  },
  {
   "cell_type": "code",
   "execution_count": null,
   "metadata": {
    "collapsed": true
   },
   "outputs": [],
   "source": [
    "def k_means(dataset, k):\n",
    "    k_points = generate_k(dataset, k)\n",
    "    assignments = assign_points(dataset, k_points)\n",
    "    old_assignments = None\n",
    "    while assignments != old_assignments:\n",
    "        new_centers = update_centers(dataset, assignments)\n",
    "        old_assignments = assignments\n",
    "        assignments = assign_points(dataset, new_centers)\n",
    "    return zip(assignments, dataset)\n"
   ]
  },
  {
   "cell_type": "code",
   "execution_count": null,
   "metadata": {
    "collapsed": true
   },
   "outputs": [],
   "source": [
    "points = [\n",
    "     [1, 2],\n",
    "     [2, 1],\n",
    "     [3, 1],\n",
    "     [5, 4],\n",
    "     [5, 5],\n",
    "     [6, 5],\n",
    "     [10, 8],\n",
    "     [7, 9],\n",
    "     [11, 5],\n",
    "     [14, 9],\n",
    "     [14, 14],\n",
    "     ]"
   ]
  },
  {
   "cell_type": "code",
   "execution_count": null,
   "metadata": {
    "collapsed": true
   },
   "outputs": [],
   "source": [
    " print k_means(points, 3)"
   ]
  },
  {
   "cell_type": "code",
   "execution_count": null,
   "metadata": {
    "collapsed": true
   },
   "outputs": [],
   "source": []
  },
  {
   "cell_type": "code",
   "execution_count": null,
   "metadata": {
    "collapsed": true
   },
   "outputs": [],
   "source": []
  },
  {
   "cell_type": "code",
   "execution_count": null,
   "metadata": {
    "collapsed": true
   },
   "outputs": [],
   "source": []
  },
  {
   "cell_type": "code",
   "execution_count": null,
   "metadata": {
    "collapsed": true
   },
   "outputs": [],
   "source": []
  },
  {
   "cell_type": "code",
   "execution_count": null,
   "metadata": {
    "collapsed": true
   },
   "outputs": [],
   "source": []
  },
  {
   "cell_type": "code",
   "execution_count": null,
   "metadata": {
    "collapsed": true
   },
   "outputs": [],
   "source": []
  }
 ],
 "metadata": {
  "kernelspec": {
   "display_name": "Python 3",
   "language": "python",
   "name": "python3"
  },
  "language_info": {
   "codemirror_mode": {
    "name": "ipython",
    "version": 3
   },
   "file_extension": ".py",
   "mimetype": "text/x-python",
   "name": "python",
   "nbconvert_exporter": "python",
   "pygments_lexer": "ipython3",
   "version": "3.5.2"
  }
 },
 "nbformat": 4,
 "nbformat_minor": 2
}
